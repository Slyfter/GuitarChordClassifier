{
 "cells": [
  {
   "attachments": {},
   "cell_type": "markdown",
   "metadata": {},
   "source": [
    "## This Notebook is used to randomly split the data into 70% Train und 30% Test data and to save the test data in a separate folder."
   ]
  },
  {
   "cell_type": "code",
   "execution_count": 14,
   "metadata": {},
   "outputs": [],
   "source": [
    "import os\n",
    "import random\n",
    "import shutil\n",
    "\n",
    "source_folder = 'data/images/g minor'  # Replace with the path to the source folder\n",
    "destination_folder = 'data/test/g minor'  # Replace with the path to the destination folder\n",
    "percentage = 0.3  # Specify the desired percentage of images to move (30% in this example)\n",
    "\n",
    "# Get the list of image file names in the source folder\n",
    "image_files = [file for file in os.listdir(source_folder) if file.endswith('.jpg') or file.endswith('.png')]\n",
    "\n",
    "# Calculate the number of images to move\n",
    "num_images_to_move = int(len(image_files) * percentage)\n",
    "\n",
    "# Randomly select the images to move\n",
    "images_to_move = random.sample(image_files, num_images_to_move)\n",
    "\n",
    "# Move the selected images to the destination folder\n",
    "for image in images_to_move:\n",
    "    source_path = os.path.join(source_folder, image)\n",
    "    destination_path = os.path.join(destination_folder, image)\n",
    "    shutil.move(source_path, destination_path)\n"
   ]
  },
  {
   "cell_type": "code",
   "execution_count": 59,
   "metadata": {},
   "outputs": [
    {
     "name": "stdout",
     "output_type": "stream",
     "text": [
      "Selected 85 random images and saved them to data/test_temp/g minor\\selected_images.\n"
     ]
    }
   ],
   "source": [
    "import os\n",
    "import random\n",
    "import shutil\n",
    "\n",
    "# Set the folder path containing the images\n",
    "folder_path = 'data/test_temp/g minor'\n",
    "\n",
    "# Set the number of random images to select\n",
    "num_images = 85\n",
    "\n",
    "# Get the list of all image files in the folder\n",
    "image_files = [file for file in os.listdir(folder_path) if file.endswith(('.jpg', '.jpeg', '.png', '.gif'))]\n",
    "\n",
    "# Check if the number of images in the folder is less than the required number\n",
    "if len(image_files) < num_images:\n",
    "    print(\"Insufficient number of images in the folder.\")\n",
    "    exit()\n",
    "\n",
    "# Create a new folder to store the selected images\n",
    "selected_folder_path = os.path.join(folder_path, 'selected_images')\n",
    "os.makedirs(selected_folder_path, exist_ok=True)\n",
    "\n",
    "# Select random images and move them to the selected folder\n",
    "random_images = random.sample(image_files, num_images)\n",
    "for image in random_images:\n",
    "    image_path = os.path.join(folder_path, image)\n",
    "    selected_image_path = os.path.join(selected_folder_path, image)\n",
    "    shutil.copyfile(image_path, selected_image_path)\n",
    "\n",
    "print(f\"Selected {num_images} random images and saved them to {selected_folder_path}.\")\n"
   ]
  },
  {
   "cell_type": "code",
   "execution_count": null,
   "metadata": {},
   "outputs": [],
   "source": []
  }
 ],
 "metadata": {
  "kernelspec": {
   "display_name": "ML2Project",
   "language": "python",
   "name": "python3"
  },
  "language_info": {
   "codemirror_mode": {
    "name": "ipython",
    "version": 3
   },
   "file_extension": ".py",
   "mimetype": "text/x-python",
   "name": "python",
   "nbconvert_exporter": "python",
   "pygments_lexer": "ipython3",
   "version": "3.10.11"
  },
  "orig_nbformat": 4,
  "vscode": {
   "interpreter": {
    "hash": "7701969d6674564bee76e3418402dccc7bfd84153a6cde981996f00dd9db6766"
   }
  }
 },
 "nbformat": 4,
 "nbformat_minor": 2
}
